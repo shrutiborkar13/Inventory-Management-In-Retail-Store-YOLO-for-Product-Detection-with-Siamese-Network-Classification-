{
 "cells": [
  {
   "cell_type": "code",
   "execution_count": 8,
   "id": "9e25587b",
   "metadata": {},
   "outputs": [],
   "source": [
    "import cv2\n",
    "\n",
    "# Function to draw bounding boxes on an image\n",
    "def draw_bounding_boxes(image_path, bounding_boxes):\n",
    "    # Load the image\n",
    "    img = cv2.imread(image_path)\n",
    "    \n",
    "    # Iterate over the bounding boxes\n",
    "    for bbox in bounding_boxes:\n",
    "        x1, y1, x2, y2 = bbox\n",
    "        color = (0, 255, 0)  # Green color\n",
    "        thickness = 2\n",
    "        cv2.rectangle(img, (x1, y1), (x2, y2), color, thickness)\n",
    "\n",
    "    # Display the image with bounding boxes\n",
    "    cv2.imshow(\"Image with Bounding Boxes\", img)\n",
    "    cv2.waitKey(0)\n",
    "    cv2.destroyAllWindows()\n",
    "\n",
    "# Input image and bounding box coordinates\n",
    "image_path = 'images/train_0.jpg'\n",
    "bounding_box_path = \"C:/Users/Adwait/Desktop/Final_project/SKU110K_fixed/yolo_annotations/train_0.txt\"\n",
    "\n",
    "# Read the bounding box coordinates from the file\n",
    "bounding_boxes = [[208,537,422,814]]\n",
    "\n",
    "\n",
    "        \n",
    "# Draw bounding boxes on the image\n",
    "draw_bounding_boxes(image_path, bounding_boxes)"
   ]
  },
  {
   "cell_type": "code",
   "execution_count": 5,
   "id": "4940c899",
   "metadata": {},
   "outputs": [
    {
     "name": "stdout",
     "output_type": "stream",
     "text": [
      "Annotations created successfully.\n"
     ]
    }
   ],
   "source": [
    "import csv\n",
    "import os\n",
    "import cv2\n",
    "\n",
    "# Function to convert normalized coordinates to YOLO format\n",
    "def convert_to_yolo_format(width, height, x, y, w, h):\n",
    "    x_center = x + w / 2\n",
    "    y_center = y + h / 2\n",
    "    return x_center, y_center, w, h\n",
    "\n",
    "# Input CSV file and output directory for annotation files\n",
    "csv_file = 'annotations/annotations_train.csv'\n",
    "output_dir = 'yolo_annotations/'\n",
    "\n",
    "# Create the output directory if it doesn't exist\n",
    "if not os.path.exists(output_dir):\n",
    "    os.makedirs(output_dir)\n",
    "\n",
    "# Read the CSV file\n",
    "with open(csv_file, 'r') as csvfile:\n",
    "    csvreader = csv.reader(csvfile)\n",
    "    next(csvreader)  # Skip header row\n",
    "    for row in csvreader:\n",
    "        filename, x1, y1, x2, y2, label, image_width, image_height = row\n",
    "\n",
    "        # Calculate YOLO format coordinates\n",
    "        x_center, y_center, w, h = convert_to_yolo_format(float(image_width), float(image_height), \n",
    "                                                          float(x1), float(y1), float(x2) - float(x1), float(y2) - float(y1))\n",
    "\n",
    "        # Create the annotation file name\n",
    "        annotation_filename = os.path.splitext(filename)[0] + '.txt'\n",
    "        annotation_path = os.path.join(output_dir, annotation_filename)\n",
    "        label=0\n",
    "        # Check if the annotation file already exists, if not, create a new one\n",
    "        if not os.path.exists(annotation_path):\n",
    "            # Create the YOLO annotation string\n",
    "            annotation = f\"{label} {x_center} {y_center} {w} {h}\"\n",
    "            \n",
    "            # Write the annotation to the file\n",
    "            with open(annotation_path, 'w') as annotation_file:\n",
    "                annotation_file.write(annotation + '\\n')\n",
    "        else:\n",
    "            with open(annotation_path, 'a') as annotation_file:\n",
    "                annotation = f\"{label} {x_center} {y_center} {w} {h}\"\n",
    "                annotation_file.write(annotation + '\\n')\n",
    "            \n",
    "print(\"Annotations created successfully.\")\n"
   ]
  },
  {
   "cell_type": "code",
   "execution_count": null,
   "id": "5809bb00",
   "metadata": {},
   "outputs": [],
   "source": []
  }
 ],
 "metadata": {
  "kernelspec": {
   "display_name": "Python 3 (ipykernel)",
   "language": "python",
   "name": "python3"
  },
  "language_info": {
   "codemirror_mode": {
    "name": "ipython",
    "version": 3
   },
   "file_extension": ".py",
   "mimetype": "text/x-python",
   "name": "python",
   "nbconvert_exporter": "python",
   "pygments_lexer": "ipython3",
   "version": "3.9.13"
  }
 },
 "nbformat": 4,
 "nbformat_minor": 5
}
